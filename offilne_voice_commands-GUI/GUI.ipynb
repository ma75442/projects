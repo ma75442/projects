{
 "cells": [
  {
   "cell_type": "code",
   "execution_count": 9,
   "metadata": {},
   "outputs": [],
   "source": [
    "import PySimpleGUI as sg\n",
    "import micInput as mi\n",
    "import time\n",
    "import single_pred as sd"
   ]
  },
  {
   "cell_type": "code",
   "execution_count": 10,
   "metadata": {},
   "outputs": [],
   "source": [
    "layout = [[sg.Text('EOTS', font='Helvetica 15')],\n",
    "          [sg.ReadButton('Speak')],\n",
    "          [sg.Button('abort', button_color=('black','firebrick3'), key='abort'),\n",
    "           sg.Button('activate', button_color=('black','firebrick3'), key='activate'),\n",
    "           sg.Button('launch', button_color=('black','firebrick3'), key='launch'),\n",
    "           sg.Button('switch', button_color=('black','firebrick3'), key='switch'),\n",
    "           sg.Button('zoom', button_color=('black','firebrick3'), key='zoom'),\n",
    "           sg.Button('track', button_color=('black','firebrick3'), key='track'),\n",
    "           sg.Button('edge', button_color=('black','firebrick3'), key='edge'),\n",
    "           sg.Button('centroid', button_color=('black','firebrick3'), key='centroid')],\n",
    "          [sg.Output(size=(80, 10))],\n",
    "          [sg.Exit()]]"
   ]
  },
  {
   "cell_type": "code",
   "execution_count": 11,
   "metadata": {},
   "outputs": [],
   "source": [
    "window = sg.Window('Speech Recognition').Layout(layout)"
   ]
  },
  {
   "cell_type": "code",
   "execution_count": 12,
   "metadata": {},
   "outputs": [],
   "source": [
    "i=[0,0,0,0,0,0,0,0]"
   ]
  },
  {
   "cell_type": "code",
   "execution_count": 13,
   "metadata": {},
   "outputs": [],
   "source": [
    "def but_recog(v):\n",
    "  if v=='abort':\n",
    "      colour_change('abort',i[0])\n",
    "      i[0]+=1\n",
    "  elif v=='activate':\n",
    "    colour_change('activate',i[1])\n",
    "    i[1]+=1\n",
    "  elif v=='centroid':\n",
    "    colour_change('centroid',i[2])\n",
    "    i[2]+=1\n",
    "  elif v=='edge':\n",
    "    colour_change('edge',i[3])\n",
    "    i[3]+=1\n",
    "  elif v=='launch':\n",
    "    colour_change('launch',i[4])\n",
    "    i[4]+=1\n",
    "  elif v=='switch':\n",
    "    colour_change('switch',i[5])\n",
    "    i[5]+=1\n",
    "  elif v=='track':\n",
    "    colour_change('track',i[6])\n",
    "    i[6]+=1\n",
    "  elif v=='zoom':\n",
    "    colour_change('zoom',i[7])\n",
    "    i[7]+=1"
   ]
  },
  {
   "cell_type": "code",
   "execution_count": 14,
   "metadata": {},
   "outputs": [],
   "source": [
    "def colour_change(command,x):\n",
    "  if x%2==0:\n",
    "    window.FindElement(command).Update(button_color=('gray34','black'))\n",
    "  else:\n",
    "    window.FindElement(command).Update(button_color=('black','firebrick3'))"
   ]
  },
  {
   "cell_type": "code",
   "execution_count": 15,
   "metadata": {},
   "outputs": [],
   "source": [
    "while True:\n",
    "  event,values = window.Read()\n",
    "  if event is None or event == 'Exit':\n",
    "      break\n",
    "  elif event == 'Speak':\n",
    "    print('Recording...')\n",
    "    mi.mic()\n",
    "    window.Refresh()\n",
    "    print('Done...')\n",
    "    v = sd.sip()\n",
    "    but_recog(v)\n",
    "    window.Refresh()\n",
    "  \n",
    "  elif event=='abort':\n",
    "      colour_change('abort',i[0])\n",
    "      i[0]+=1\n",
    "  elif event=='activate':\n",
    "    colour_change('activate',i[1])\n",
    "    i[1]+=1\n",
    "  elif event=='centroid':\n",
    "    colour_change('centroid',i[2])\n",
    "    i[2]+=1\n",
    "  elif event=='edge':\n",
    "    colour_change('edge',i[3])\n",
    "    i[3]+=1\n",
    "  elif event=='launch':\n",
    "    colour_change('launch',i[4])\n",
    "    i[4]+=1\n",
    "  elif event=='switch':\n",
    "    colour_change('switch',i[5])\n",
    "    i[5]+=1\n",
    "  elif event=='track':\n",
    "    colour_change('track',i[6])\n",
    "    i[6]+=1\n",
    "  elif event=='zoom':\n",
    "    colour_change('zoom',i[7])\n",
    "    i[7]+=1\n",
    "\n",
    "window.Close()"
   ]
  },
  {
   "cell_type": "code",
   "execution_count": null,
   "metadata": {},
   "outputs": [],
   "source": []
  }
 ],
 "metadata": {
  "kernelspec": {
   "display_name": "Python 3",
   "language": "python",
   "name": "python3"
  },
  "language_info": {
   "codemirror_mode": {
    "name": "ipython",
    "version": 3
   },
   "file_extension": ".py",
   "mimetype": "text/x-python",
   "name": "python",
   "nbconvert_exporter": "python",
   "pygments_lexer": "ipython3",
   "version": "3.6.8"
  }
 },
 "nbformat": 4,
 "nbformat_minor": 2
}
