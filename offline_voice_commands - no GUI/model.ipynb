{
 "cells": [
  {
   "cell_type": "code",
   "execution_count": 1,
   "metadata": {},
   "outputs": [
    {
     "name": "stderr",
     "output_type": "stream",
     "text": [
      "Using TensorFlow backend.\n"
     ]
    }
   ],
   "source": [
    "import os\n",
    "from scipy.io import wavfile\n",
    "import pandas as pd\n",
    "import matplotlib.pyplot as plt\n",
    "import numpy as np\n",
    "from keras.layers import Conv2D, MaxPool2D, Flatten, LSTM\n",
    "from keras.layers import Dropout, Dense, TimeDistributed\n",
    "from keras.models import Sequential\n",
    "from keras.utils import to_categorical\n",
    "from sklearn.utils.class_weight import compute_class_weight\n",
    "from tqdm import tqdm\n",
    "from python_speech_features import mfcc"
   ]
  },
  {
   "cell_type": "code",
   "execution_count": 2,
   "metadata": {},
   "outputs": [],
   "source": [
    "def build_rand_feat():\n",
    "\tX = []\n",
    "\ty = []\n",
    "\t_min, _max = float('inf'), -float('inf')\n",
    "\tfor _ in tqdm(range(n_samples)):\n",
    "\t\trand_class = np.random.choice(class_dist.index, p=prob_dist)\n",
    "\t\tfile = np.random.choice(df[df.label==rand_class ].index)\n",
    "\t\trate, wav = wavfile.read('clean/'+file)\n",
    "\t\tlabel = df.at[file, 'label']\n",
    "\t\trand_index = np.random.randint(0, wav.shape[0]-config.step)\n",
    "\t\tsample = wav[rand_index:rand_index+config.step]\n",
    "\t\tX_sample = mfcc(sample, rate, numcep=config.nfeat, nfilt=config.nfilt, nfft=config.nfft).T\n",
    "\t\t_min = min(np.amin(X_sample), _min)\n",
    "\t\t_max = max(np.amax(X_sample), _max)\n",
    "\t\tX.append(X_sample if config.mode=='conv' else X_sample.T)\n",
    "\t\ty.append(classes.index(label))\n",
    "\tX, y = np.array(X), np.array(y)\n",
    "\tX = (X - _min) / (_max - _min)\n",
    "    \n",
    "\tif config.mode == 'conv':\n",
    "\t\tX = X.reshape(X.shape[0], X.shape[1], X.shape[2], 1)\n",
    "\telif config.mode == 'mode':\n",
    "\t\tX = X.reshape(X.shape[0], X.shape[1], X.shape[2])\n",
    "\ty = to_categorical(y, num_classes=8)\n",
    "\treturn X, y"
   ]
  },
  {
   "cell_type": "code",
   "execution_count": 3,
   "metadata": {},
   "outputs": [],
   "source": [
    "def get_conv_model():\n",
    "\tmodel = Sequential()\n",
    "\tmodel.add(Conv2D(16, (3, 3), activation='relu', strides=(1, 1), padding='same', input_shape=input_shape))\n",
    "\tmodel.add(Conv2D(32, (3, 3), activation='relu', strides=(1, 1), padding='same'))\n",
    "\tmodel.add(Conv2D(64, (3, 3), activation='relu', strides=(1, 1), padding='same'))\n",
    "\tmodel.add(Conv2D(128, (3, 3), activation='relu', strides=(1, 1), padding='same'))\n",
    "\tmodel.add(MaxPool2D((2, 2)))\n",
    "\tmodel.add(Dropout(0.5))\n",
    "\tmodel.add(Flatten())\n",
    "\tmodel.add(Dense(128, activation='relu'))\n",
    "\tmodel.add(Dense(64, activation='relu'))\n",
    "\tmodel.add(Dense(32, activation='relu'))\n",
    "\tmodel.add(Dense(8, activation='softmax'))\n",
    "\tmodel.summary()\n",
    "\tmodel.compile(loss='mean_squared_error', optimizer='adam', metrics=['acc'])\n",
    "\treturn model"
   ]
  },
  {
   "cell_type": "code",
   "execution_count": 4,
   "metadata": {},
   "outputs": [],
   "source": [
    "class Config:\n",
    "\tdef __init__(self, mode='conv', nfilt=26, nfeat=13, nfft=512, rate=16000):\n",
    "\t\tself.mode = mode\n",
    "\t\tself.nfilt = nfilt\n",
    "\t\tself.nfeat = nfeat\n",
    "\t\tself.nfft = nfft\n",
    "\t\tself.rate = rate\n",
    "\t\tself.step = int(rate/10)"
   ]
  },
  {
   "cell_type": "code",
   "execution_count": 5,
   "metadata": {},
   "outputs": [],
   "source": [
    "df = pd.read_csv('commands.csv')\n",
    "df.set_index('fname', inplace=True)"
   ]
  },
  {
   "cell_type": "code",
   "execution_count": 6,
   "metadata": {},
   "outputs": [],
   "source": [
    "for f in df.index:\n",
    "    rate, signal = wavfile.read('clean/'+f)\n",
    "    df.at[f, 'length'] = signal.shape[0]/rate"
   ]
  },
  {
   "cell_type": "code",
   "execution_count": 7,
   "metadata": {},
   "outputs": [],
   "source": [
    "classes = list(np.unique(df.label))\n",
    "class_dist = df.groupby(['label'])['length'].mean()"
   ]
  },
  {
   "cell_type": "code",
   "execution_count": 8,
   "metadata": {},
   "outputs": [],
   "source": [
    "n_samples = 2 * int(df['length'].sum()/0.1)\n",
    "prob_dist = class_dist / class_dist.sum()\n",
    "choices = np.random.choice(class_dist.index, p=prob_dist)"
   ]
  },
  {
   "cell_type": "code",
   "execution_count": 9,
   "metadata": {},
   "outputs": [
    {
     "data": {
      "text/plain": [
       "(-1.1017479394565692,\n",
       " 1.1027035336274034,\n",
       " -1.1007501761641811,\n",
       " 1.100035747505556)"
      ]
     },
     "execution_count": 9,
     "metadata": {},
     "output_type": "execute_result"
    },
    {
     "data": {
      "image/png": "[encoded data removed]",
      "text/plain": [
       "<Figure size 432x288 with 1 Axes>"
      ]
     },
     "metadata": {},
     "output_type": "display_data"
    }
   ],
   "source": [
    "fig, ax = plt.subplots()\n",
    "ax.set_title('Class Distribution', y=1.08)\n",
    "ax.pie(class_dist, labels=class_dist.index, autopct='%1.1f%%', shadow=False, startangle=90)\n",
    "ax.axis('equal')"
   ]
  },
  {
   "cell_type": "code",
   "execution_count": 10,
   "metadata": {},
   "outputs": [],
   "source": [
    "config = Config(mode = 'conv')"
   ]
  },
  {
   "cell_type": "code",
   "execution_count": 11,
   "metadata": {},
   "outputs": [
    {
     "name": "stderr",
     "output_type": "stream",
     "text": [
      "100%|████████████████████████████████████████████████████████████████████████████████████████████████████████████████████████████████████████████████| 20314/20314 [01:12<00:00, 279.93it/s]\n"
     ]
    },
    {
     "name": "stdout",
     "output_type": "stream",
     "text": [
      "_________________________________________________________________\n",
      "Layer (type)                 Output Shape              Param #   \n",
      "=================================================================\n",
      "conv2d_1 (Conv2D)            (None, 13, 9, 16)         160       \n",
      "_________________________________________________________________\n",
      "conv2d_2 (Conv2D)            (None, 13, 9, 32)         4640      \n",
      "_________________________________________________________________\n",
      "conv2d_3 (Conv2D)            (None, 13, 9, 64)         18496     \n",
      "_________________________________________________________________\n",
      "conv2d_4 (Conv2D)            (None, 13, 9, 128)        73856     \n",
      "_________________________________________________________________\n",
      "max_pooling2d_1 (MaxPooling2 (None, 6, 4, 128)         0         \n",
      "_________________________________________________________________\n",
      "dropout_1 (Dropout)          (None, 6, 4, 128)         0         \n",
      "_________________________________________________________________\n",
      "flatten_1 (Flatten)          (None, 3072)              0         \n",
      "_________________________________________________________________\n",
      "dense_1 (Dense)              (None, 128)               393344    \n",
      "_________________________________________________________________\n",
      "dense_2 (Dense)              (None, 64)                8256      \n",
      "_________________________________________________________________\n",
      "dense_3 (Dense)              (None, 32)                2080      \n",
      "_________________________________________________________________\n",
      "dense_4 (Dense)              (None, 8)                 264       \n",
      "=================================================================\n",
      "Total params: 501,096\n",
      "Trainable params: 501,096\n",
      "Non-trainable params: 0\n",
      "_________________________________________________________________\n"
     ]
    }
   ],
   "source": [
    "if config.mode == 'conv':\n",
    "\tX, y = build_rand_feat()\n",
    "\ty_flat = np.argmax(y, axis=1)\n",
    "\tinput_shape = (X.shape[1], X.shape[2], 1)\n",
    "\tmodel = get_conv_model()\n",
    "elif config.mode == 'time':\n",
    "\tX, y = build_rand_feat()\n",
    "\ty_flat = np.argmax(y, axis=1)\n",
    "\tinput_shape = (X.shape[1], X.shape[2])\n",
    "\tmodel = get_recurrent_model()"
   ]
  },
  {
   "cell_type": "code",
   "execution_count": 12,
   "metadata": {},
   "outputs": [],
   "source": [
    "class_weight = compute_class_weight('balanced', np.unique(y_flat), y_flat)"
   ]
  },
  {
   "cell_type": "code",
   "execution_count": null,
   "metadata": {
    "scrolled": true
   },
   "outputs": [
    {
     "name": "stdout",
     "output_type": "stream",
     "text": [
      "Epoch 1/10\n"
     ]
    },
    {
     "name": "stdout",
     "output_type": "stream",
     "text": [
      " 6880/20314 [=========>....................] - ETA: 44s - loss: 0.0684 - acc: 0.46 - ETA: 44s - loss: 0.0655 - acc: 0.53 - ETA: 42s - loss: 0.0683 - acc: 0.51 - ETA: 42s - loss: 0.0666 - acc: 0.53 - ETA: 41s - loss: 0.0705 - acc: 0.51 - ETA: 40s - loss: 0.0692 - acc: 0.54 - ETA: 40s - loss: 0.0710 - acc: 0.52 - ETA: 40s - loss: 0.0705 - acc: 0.52 - ETA: 39s - loss: 0.0701 - acc: 0.52 - ETA: 39s - loss: 0.0720 - acc: 0.50 - ETA: 39s - loss: 0.0727 - acc: 0.49 - ETA: 39s - loss: 0.0725 - acc: 0.49 - ETA: 39s - loss: 0.0731 - acc: 0.48 - ETA: 39s - loss: 0.0735 - acc: 0.48 - ETA: 39s - loss: 0.0728 - acc: 0.49 - ETA: 38s - loss: 0.0721 - acc: 0.50 - ETA: 38s - loss: 0.0713 - acc: 0.50 - ETA: 38s - loss: 0.0719 - acc: 0.50 - ETA: 38s - loss: 0.0719 - acc: 0.50 - ETA: 38s - loss: 0.0715 - acc: 0.50 - ETA: 38s - loss: 0.0717 - acc: 0.50 - ETA: 38s - loss: 0.0721 - acc: 0.49 - ETA: 38s - loss: 0.0714 - acc: 0.50 - ETA: 38s - loss: 0.0713 - acc: 0.50 - ETA: 38s - loss: 0.0709 - acc: 0.50 - ETA: 38s - loss: 0.0710 - acc: 0.50 - ETA: 38s - loss: 0.0714 - acc: 0.50 - ETA: 38s - loss: 0.0718 - acc: 0.50 - ETA: 38s - loss: 0.0718 - acc: 0.50 - ETA: 38s - loss: 0.0719 - acc: 0.50 - ETA: 37s - loss: 0.0718 - acc: 0.51 - ETA: 37s - loss: 0.0720 - acc: 0.50 - ETA: 37s - loss: 0.0722 - acc: 0.50 - ETA: 37s - loss: 0.0720 - acc: 0.50 - ETA: 37s - loss: 0.0717 - acc: 0.51 - ETA: 37s - loss: 0.0721 - acc: 0.50 - ETA: 37s - loss: 0.0720 - acc: 0.51 - ETA: 37s - loss: 0.0715 - acc: 0.51 - ETA: 37s - loss: 0.0715 - acc: 0.51 - ETA: 37s - loss: 0.0720 - acc: 0.50 - ETA: 36s - loss: 0.0717 - acc: 0.51 - ETA: 36s - loss: 0.0722 - acc: 0.50 - ETA: 36s - loss: 0.0722 - acc: 0.50 - ETA: 36s - loss: 0.0720 - acc: 0.50 - ETA: 36s - loss: 0.0717 - acc: 0.51 - ETA: 36s - loss: 0.0717 - acc: 0.50 - ETA: 36s - loss: 0.0722 - acc: 0.50 - ETA: 36s - loss: 0.0724 - acc: 0.50 - ETA: 36s - loss: 0.0724 - acc: 0.50 - ETA: 36s - loss: 0.0725 - acc: 0.50 - ETA: 36s - loss: 0.0723 - acc: 0.50 - ETA: 36s - loss: 0.0722 - acc: 0.50 - ETA: 35s - loss: 0.0726 - acc: 0.50 - ETA: 35s - loss: 0.0725 - acc: 0.50 - ETA: 35s - loss: 0.0727 - acc: 0.50 - ETA: 35s - loss: 0.0727 - acc: 0.50 - ETA: 35s - loss: 0.0727 - acc: 0.50 - ETA: 35s - loss: 0.0729 - acc: 0.50 - ETA: 35s - loss: 0.0730 - acc: 0.50 - ETA: 35s - loss: 0.0732 - acc: 0.50 - ETA: 35s - loss: 0.0732 - acc: 0.50 - ETA: 35s - loss: 0.0733 - acc: 0.50 - ETA: 35s - loss: 0.0730 - acc: 0.50 - ETA: 35s - loss: 0.0730 - acc: 0.50 - ETA: 35s - loss: 0.0731 - acc: 0.50 - ETA: 35s - loss: 0.0731 - acc: 0.50 - ETA: 35s - loss: 0.0731 - acc: 0.50 - ETA: 34s - loss: 0.0729 - acc: 0.50 - ETA: 34s - loss: 0.0729 - acc: 0.50 - ETA: 34s - loss: 0.0731 - acc: 0.50 - ETA: 34s - loss: 0.0733 - acc: 0.50 - ETA: 34s - loss: 0.0732 - acc: 0.50 - ETA: 34s - loss: 0.0733 - acc: 0.50 - ETA: 34s - loss: 0.0732 - acc: 0.50 - ETA: 34s - loss: 0.0732 - acc: 0.50 - ETA: 34s - loss: 0.0733 - acc: 0.50 - ETA: 34s - loss: 0.0733 - acc: 0.50 - ETA: 34s - loss: 0.0734 - acc: 0.50 - ETA: 34s - loss: 0.0734 - acc: 0.50 - ETA: 34s - loss: 0.0735 - acc: 0.50 - ETA: 34s - loss: 0.0733 - acc: 0.50 - ETA: 34s - loss: 0.0733 - acc: 0.50 - ETA: 34s - loss: 0.0733 - acc: 0.50 - ETA: 34s - loss: 0.0732 - acc: 0.50 - ETA: 34s - loss: 0.0732 - acc: 0.50 - ETA: 34s - loss: 0.0730 - acc: 0.51 - ETA: 34s - loss: 0.0729 - acc: 0.51 - ETA: 34s - loss: 0.0729 - acc: 0.51 - ETA: 33s - loss: 0.0728 - acc: 0.51 - ETA: 33s - loss: 0.0730 - acc: 0.51 - ETA: 33s - loss: 0.0728 - acc: 0.51 - ETA: 33s - loss: 0.0729 - acc: 0.51 - ETA: 33s - loss: 0.0729 - acc: 0.51 - ETA: 33s - loss: 0.0729 - acc: 0.51 - ETA: 33s - loss: 0.0728 - acc: 0.51 - ETA: 33s - loss: 0.0728 - acc: 0.51 - ETA: 33s - loss: 0.0727 - acc: 0.51 - ETA: 33s - loss: 0.0727 - acc: 0.51 - ETA: 33s - loss: 0.0727 - acc: 0.51 - ETA: 33s - loss: 0.0727 - acc: 0.51 - ETA: 33s - loss: 0.0728 - acc: 0.51 - ETA: 33s - loss: 0.0728 - acc: 0.51 - ETA: 33s - loss: 0.0729 - acc: 0.51 - ETA: 33s - loss: 0.0728 - acc: 0.51 - ETA: 33s - loss: 0.0730 - acc: 0.51 - ETA: 33s - loss: 0.0729 - acc: 0.51 - ETA: 32s - loss: 0.0729 - acc: 0.51 - ETA: 32s - loss: 0.0731 - acc: 0.51 - ETA: 32s - loss: 0.0732 - acc: 0.51 - ETA: 32s - loss: 0.0731 - acc: 0.51 - ETA: 32s - loss: 0.0732 - acc: 0.51 - ETA: 32s - loss: 0.0730 - acc: 0.51 - ETA: 32s - loss: 0.0729 - acc: 0.51 - ETA: 32s - loss: 0.0730 - acc: 0.51 - ETA: 32s - loss: 0.0731 - acc: 0.51 - ETA: 32s - loss: 0.0731 - acc: 0.51 - ETA: 32s - loss: 0.0733 - acc: 0.51 - ETA: 32s - loss: 0.0732 - acc: 0.51 - ETA: 32s - loss: 0.0731 - acc: 0.51 - ETA: 32s - loss: 0.0732 - acc: 0.51 - ETA: 32s - loss: 0.0732 - acc: 0.51 - ETA: 32s - loss: 0.0733 - acc: 0.51 - ETA: 32s - loss: 0.0732 - acc: 0.51 - ETA: 32s - loss: 0.0732 - acc: 0.51 - ETA: 31s - loss: 0.0733 - acc: 0.51 - ETA: 31s - loss: 0.0733 - acc: 0.51 - ETA: 31s - loss: 0.0733 - acc: 0.51 - ETA: 31s - loss: 0.0734 - acc: 0.51 - ETA: 31s - loss: 0.0733 - acc: 0.51 - ETA: 31s - loss: 0.0733 - acc: 0.51 - ETA: 31s - loss: 0.0733 - acc: 0.51 - ETA: 31s - loss: 0.0734 - acc: 0.51 - ETA: 31s - loss: 0.0734 - acc: 0.51 - ETA: 31s - loss: 0.0732 - acc: 0.51 - ETA: 31s - loss: 0.0732 - acc: 0.51 - ETA: 31s - loss: 0.0732 - acc: 0.51 - ETA: 31s - loss: 0.0733 - acc: 0.51 - ETA: 31s - loss: 0.0733 - acc: 0.51 - ETA: 31s - loss: 0.0734 - acc: 0.51 - ETA: 31s - loss: 0.0734 - acc: 0.51 - ETA: 31s - loss: 0.0734 - acc: 0.51 - ETA: 31s - loss: 0.0734 - acc: 0.51 - ETA: 30s - loss: 0.0734 - acc: 0.51 - ETA: 30s - loss: 0.0735 - acc: 0.51 - ETA: 30s - loss: 0.0736 - acc: 0.51 - ETA: 30s - loss: 0.0736 - acc: 0.51 - ETA: 30s - loss: 0.0736 - acc: 0.51 - ETA: 30s - loss: 0.0735 - acc: 0.51 - ETA: 30s - loss: 0.0736 - acc: 0.51 - ETA: 30s - loss: 0.0736 - acc: 0.51 - ETA: 30s - loss: 0.0735 - acc: 0.51 - ETA: 30s - loss: 0.0734 - acc: 0.51 - ETA: 30s - loss: 0.0735 - acc: 0.51 - ETA: 30s - loss: 0.0734 - acc: 0.51 - ETA: 30s - loss: 0.0734 - acc: 0.51 - ETA: 30s - loss: 0.0734 - acc: 0.51 - ETA: 30s - loss: 0.0735 - acc: 0.51 - ETA: 30s - loss: 0.0735 - acc: 0.51 - ETA: 29s - loss: 0.0736 - acc: 0.51 - ETA: 29s - loss: 0.0735 - acc: 0.51 - ETA: 29s - loss: 0.0737 - acc: 0.51 - ETA: 29s - loss: 0.0738 - acc: 0.51 - ETA: 29s - loss: 0.0738 - acc: 0.51 - ETA: 29s - loss: 0.0737 - acc: 0.51 - ETA: 29s - loss: 0.0737 - acc: 0.51 - ETA: 29s - loss: 0.0737 - acc: 0.51 - ETA: 29s - loss: 0.0737 - acc: 0.51 - ETA: 29s - loss: 0.0737 - acc: 0.51 - ETA: 29s - loss: 0.0737 - acc: 0.51 - ETA: 29s - loss: 0.0736 - acc: 0.51 - ETA: 29s - loss: 0.0736 - acc: 0.51 - ETA: 29s - loss: 0.0737 - acc: 0.51 - ETA: 29s - loss: 0.0738 - acc: 0.51 - ETA: 29s - loss: 0.0737 - acc: 0.51 - ETA: 29s - loss: 0.0738 - acc: 0.51 - ETA: 28s - loss: 0.0738 - acc: 0.51 - ETA: 28s - loss: 0.0738 - acc: 0.51 - ETA: 28s - loss: 0.0738 - acc: 0.51 - ETA: 28s - loss: 0.0739 - acc: 0.51 - ETA: 28s - loss: 0.0739 - acc: 0.51 - ETA: 28s - loss: 0.0739 - acc: 0.51 - ETA: 28s - loss: 0.0739 - acc: 0.51 - ETA: 28s - loss: 0.0738 - acc: 0.51 - ETA: 28s - loss: 0.0739 - acc: 0.51 - ETA: 28s - loss: 0.0739 - acc: 0.51 - ETA: 28s - loss: 0.0738 - acc: 0.51 - ETA: 28s - loss: 0.0738 - acc: 0.51 - ETA: 28s - loss: 0.0739 - acc: 0.51 - ETA: 28s - loss: 0.0738 - acc: 0.51 - ETA: 28s - loss: 0.0739 - acc: 0.51 - ETA: 28s - loss: 0.0739 - acc: 0.51 - ETA: 28s - loss: 0.0739 - acc: 0.51 - ETA: 27s - loss: 0.0739 - acc: 0.51 - ETA: 27s - loss: 0.0739 - acc: 0.51 - ETA: 27s - loss: 0.0738 - acc: 0.51 - ETA: 27s - loss: 0.0739 - acc: 0.51 - ETA: 27s - loss: 0.0740 - acc: 0.51 - ETA: 27s - loss: 0.0739 - acc: 0.51 - ETA: 27s - loss: 0.0739 - acc: 0.51 - ETA: 27s - loss: 0.0739 - acc: 0.51 - ETA: 27s - loss: 0.0739 - acc: 0.51 - ETA: 27s - loss: 0.0739 - acc: 0.51 - ETA: 27s - loss: 0.0739 - acc: 0.51 - ETA: 27s - loss: 0.0739 - acc: 0.51 - ETA: 27s - loss: 0.0739 - acc: 0.51 - ETA: 27s - loss: 0.0739 - acc: 0.51 - ETA: 27s - loss: 0.0739 - acc: 0.51 - ETA: 27s - loss: 0.0738 - acc: 0.51 - ETA: 26s - loss: 0.0738 - acc: 0.51 - ETA: 26s - loss: 0.0738 - acc: 0.51 - ETA: 26s - loss: 0.0738 - acc: 0.51 - ETA: 26s - loss: 0.0738 - acc: 0.51 - ETA: 26s - loss: 0.0737 - acc: 0.51 - ETA: 26s - loss: 0.0737 - acc: 0.51 - ETA: 26s - loss: 0.0737 - acc: 0.5134\b\b\b\b\b\b\b\b\b\b\b\b\b\b\b\b\b\b\b\b\b\b\b\b\b\b\b\b\b\b\b\b\b\b\b\b\b\b\b\b\b\b\b\b\b\b\b\b\b\b\b\b\b\b\b\b\b\b\b\b\b\b\b\b\b\b\b\b\b\b\b\b\b\b\b\b\b\b\b\b\b\b\b\b"
     ]
    },
    {
     "name": "stdout",
     "output_type": "stream",
     "text": [
      "13760/20314 [===================>..........] - ETA: 26s - loss: 0.0736 - acc: 0.51 - ETA: 26s - loss: 0.0736 - acc: 0.51 - ETA: 26s - loss: 0.0737 - acc: 0.51 - ETA: 26s - loss: 0.0736 - acc: 0.51 - ETA: 26s - loss: 0.0736 - acc: 0.51 - ETA: 26s - loss: 0.0736 - acc: 0.51 - ETA: 26s - loss: 0.0736 - acc: 0.51 - ETA: 26s - loss: 0.0736 - acc: 0.51 - ETA: 26s - loss: 0.0736 - acc: 0.51 - ETA: 25s - loss: 0.0735 - acc: 0.51 - ETA: 25s - loss: 0.0734 - acc: 0.51 - ETA: 25s - loss: 0.0735 - acc: 0.51 - ETA: 25s - loss: 0.0735 - acc: 0.51 - ETA: 25s - loss: 0.0735 - acc: 0.51 - ETA: 25s - loss: 0.0736 - acc: 0.51 - ETA: 25s - loss: 0.0736 - acc: 0.51 - ETA: 25s - loss: 0.0735 - acc: 0.51 - ETA: 25s - loss: 0.0735 - acc: 0.51 - ETA: 25s - loss: 0.0737 - acc: 0.51 - ETA: 25s - loss: 0.0737 - acc: 0.51 - ETA: 25s - loss: 0.0737 - acc: 0.51 - ETA: 25s - loss: 0.0737 - acc: 0.51 - ETA: 25s - loss: 0.0736 - acc: 0.51 - ETA: 24s - loss: 0.0736 - acc: 0.51 - ETA: 24s - loss: 0.0735 - acc: 0.51 - ETA: 24s - loss: 0.0735 - acc: 0.51 - ETA: 24s - loss: 0.0736 - acc: 0.51 - ETA: 24s - loss: 0.0736 - acc: 0.51 - ETA: 24s - loss: 0.0735 - acc: 0.51 - ETA: 24s - loss: 0.0735 - acc: 0.51 - ETA: 24s - loss: 0.0735 - acc: 0.51 - ETA: 24s - loss: 0.0735 - acc: 0.51 - ETA: 24s - loss: 0.0735 - acc: 0.51 - ETA: 24s - loss: 0.0734 - acc: 0.51 - ETA: 24s - loss: 0.0734 - acc: 0.51 - ETA: 24s - loss: 0.0735 - acc: 0.51 - ETA: 24s - loss: 0.0735 - acc: 0.51 - ETA: 23s - loss: 0.0734 - acc: 0.51 - ETA: 23s - loss: 0.0735 - acc: 0.51 - ETA: 23s - loss: 0.0735 - acc: 0.51 - ETA: 23s - loss: 0.0736 - acc: 0.51 - ETA: 23s - loss: 0.0736 - acc: 0.51 - ETA: 23s - loss: 0.0736 - acc: 0.51 - ETA: 23s - loss: 0.0736 - acc: 0.51 - ETA: 23s - loss: 0.0736 - acc: 0.51 - ETA: 23s - loss: 0.0736 - acc: 0.51 - ETA: 23s - loss: 0.0736 - acc: 0.51 - ETA: 23s - loss: 0.0736 - acc: 0.51 - ETA: 23s - loss: 0.0736 - acc: 0.51 - ETA: 23s - loss: 0.0736 - acc: 0.51 - ETA: 23s - loss: 0.0736 - acc: 0.51 - ETA: 23s - loss: 0.0736 - acc: 0.51 - ETA: 23s - loss: 0.0736 - acc: 0.51 - ETA: 22s - loss: 0.0736 - acc: 0.51 - ETA: 22s - loss: 0.0736 - acc: 0.51 - ETA: 22s - loss: 0.0736 - acc: 0.51 - ETA: 22s - loss: 0.0736 - acc: 0.51 - ETA: 22s - loss: 0.0736 - acc: 0.51 - ETA: 22s - loss: 0.0735 - acc: 0.51 - ETA: 22s - loss: 0.0735 - acc: 0.51 - ETA: 22s - loss: 0.0736 - acc: 0.51 - ETA: 22s - loss: 0.0736 - acc: 0.51 - ETA: 22s - loss: 0.0737 - acc: 0.51 - ETA: 22s - loss: 0.0737 - acc: 0.51 - ETA: 22s - loss: 0.0737 - acc: 0.51 - ETA: 22s - loss: 0.0737 - acc: 0.51 - ETA: 22s - loss: 0.0737 - acc: 0.51 - ETA: 22s - loss: 0.0737 - acc: 0.51 - ETA: 22s - loss: 0.0737 - acc: 0.51 - ETA: 21s - loss: 0.0737 - acc: 0.51 - ETA: 21s - loss: 0.0736 - acc: 0.51 - ETA: 21s - loss: 0.0737 - acc: 0.51 - ETA: 21s - loss: 0.0737 - acc: 0.51 - ETA: 21s - loss: 0.0737 - acc: 0.51 - ETA: 21s - loss: 0.0737 - acc: 0.51 - ETA: 21s - loss: 0.0737 - acc: 0.51 - ETA: 21s - loss: 0.0737 - acc: 0.51 - ETA: 21s - loss: 0.0737 - acc: 0.51 - ETA: 21s - loss: 0.0737 - acc: 0.51 - ETA: 21s - loss: 0.0737 - acc: 0.51 - ETA: 21s - loss: 0.0737 - acc: 0.51 - ETA: 21s - loss: 0.0737 - acc: 0.51 - ETA: 21s - loss: 0.0737 - acc: 0.51 - ETA: 21s - loss: 0.0737 - acc: 0.51 - ETA: 20s - loss: 0.0737 - acc: 0.51 - ETA: 20s - loss: 0.0737 - acc: 0.51 - ETA: 20s - loss: 0.0737 - acc: 0.51 - ETA: 20s - loss: 0.0737 - acc: 0.51 - ETA: 20s - loss: 0.0738 - acc: 0.51 - ETA: 20s - loss: 0.0738 - acc: 0.51 - ETA: 20s - loss: 0.0738 - acc: 0.51 - ETA: 20s - loss: 0.0738 - acc: 0.51 - ETA: 20s - loss: 0.0739 - acc: 0.51 - ETA: 20s - loss: 0.0739 - acc: 0.51 - ETA: 20s - loss: 0.0739 - acc: 0.51 - ETA: 20s - loss: 0.0739 - acc: 0.51 - ETA: 20s - loss: 0.0739 - acc: 0.51 - ETA: 20s - loss: 0.0739 - acc: 0.51 - ETA: 20s - loss: 0.0739 - acc: 0.51 - ETA: 20s - loss: 0.0739 - acc: 0.51 - ETA: 19s - loss: 0.0739 - acc: 0.51 - ETA: 19s - loss: 0.0739 - acc: 0.51 - ETA: 19s - loss: 0.0739 - acc: 0.51 - ETA: 19s - loss: 0.0739 - acc: 0.51 - ETA: 19s - loss: 0.0739 - acc: 0.51 - ETA: 19s - loss: 0.0739 - acc: 0.51 - ETA: 19s - loss: 0.0739 - acc: 0.51 - ETA: 19s - loss: 0.0738 - acc: 0.51 - ETA: 19s - loss: 0.0738 - acc: 0.51 - ETA: 19s - loss: 0.0738 - acc: 0.51 - ETA: 19s - loss: 0.0738 - acc: 0.51 - ETA: 19s - loss: 0.0738 - acc: 0.51 - ETA: 19s - loss: 0.0738 - acc: 0.51 - ETA: 19s - loss: 0.0738 - acc: 0.51 - ETA: 19s - loss: 0.0738 - acc: 0.51 - ETA: 19s - loss: 0.0738 - acc: 0.51 - ETA: 18s - loss: 0.0738 - acc: 0.51 - ETA: 18s - loss: 0.0739 - acc: 0.51 - ETA: 18s - loss: 0.0739 - acc: 0.51 - ETA: 18s - loss: 0.0738 - acc: 0.51 - ETA: 18s - loss: 0.0738 - acc: 0.51 - ETA: 18s - loss: 0.0738 - acc: 0.51 - ETA: 18s - loss: 0.0738 - acc: 0.51 - ETA: 18s - loss: 0.0738 - acc: 0.51 - ETA: 18s - loss: 0.0738 - acc: 0.51 - ETA: 18s - loss: 0.0738 - acc: 0.51 - ETA: 18s - loss: 0.0738 - acc: 0.51 - ETA: 18s - loss: 0.0738 - acc: 0.51 - ETA: 18s - loss: 0.0738 - acc: 0.51 - ETA: 18s - loss: 0.0738 - acc: 0.51 - ETA: 18s - loss: 0.0738 - acc: 0.51 - ETA: 18s - loss: 0.0738 - acc: 0.51 - ETA: 17s - loss: 0.0738 - acc: 0.51 - ETA: 17s - loss: 0.0738 - acc: 0.51 - ETA: 17s - loss: 0.0738 - acc: 0.51 - ETA: 17s - loss: 0.0738 - acc: 0.51 - ETA: 17s - loss: 0.0738 - acc: 0.51 - ETA: 17s - loss: 0.0738 - acc: 0.51 - ETA: 17s - loss: 0.0738 - acc: 0.51 - ETA: 17s - loss: 0.0737 - acc: 0.51 - ETA: 17s - loss: 0.0738 - acc: 0.51 - ETA: 17s - loss: 0.0738 - acc: 0.51 - ETA: 17s - loss: 0.0738 - acc: 0.51 - ETA: 17s - loss: 0.0738 - acc: 0.51 - ETA: 17s - loss: 0.0737 - acc: 0.51 - ETA: 17s - loss: 0.0737 - acc: 0.51 - ETA: 17s - loss: 0.0737 - acc: 0.51 - ETA: 17s - loss: 0.0737 - acc: 0.51 - ETA: 16s - loss: 0.0738 - acc: 0.51 - ETA: 16s - loss: 0.0738 - acc: 0.51 - ETA: 16s - loss: 0.0737 - acc: 0.51 - ETA: 16s - loss: 0.0737 - acc: 0.51 - ETA: 16s - loss: 0.0738 - acc: 0.51 - ETA: 16s - loss: 0.0737 - acc: 0.51 - ETA: 16s - loss: 0.0737 - acc: 0.51 - ETA: 16s - loss: 0.0737 - acc: 0.51 - ETA: 16s - loss: 0.0737 - acc: 0.51 - ETA: 16s - loss: 0.0737 - acc: 0.51 - ETA: 16s - loss: 0.0737 - acc: 0.51 - ETA: 16s - loss: 0.0737 - acc: 0.51 - ETA: 16s - loss: 0.0736 - acc: 0.51 - ETA: 16s - loss: 0.0736 - acc: 0.51 - ETA: 16s - loss: 0.0736 - acc: 0.51 - ETA: 16s - loss: 0.0736 - acc: 0.51 - ETA: 15s - loss: 0.0736 - acc: 0.51 - ETA: 15s - loss: 0.0735 - acc: 0.51 - ETA: 15s - loss: 0.0735 - acc: 0.51 - ETA: 15s - loss: 0.0735 - acc: 0.51 - ETA: 15s - loss: 0.0735 - acc: 0.51 - ETA: 15s - loss: 0.0735 - acc: 0.51 - ETA: 15s - loss: 0.0735 - acc: 0.51 - ETA: 15s - loss: 0.0735 - acc: 0.51 - ETA: 15s - loss: 0.0735 - acc: 0.51 - ETA: 15s - loss: 0.0735 - acc: 0.51 - ETA: 15s - loss: 0.0735 - acc: 0.51 - ETA: 15s - loss: 0.0735 - acc: 0.51 - ETA: 15s - loss: 0.0735 - acc: 0.51 - ETA: 15s - loss: 0.0735 - acc: 0.51 - ETA: 15s - loss: 0.0735 - acc: 0.51 - ETA: 15s - loss: 0.0735 - acc: 0.51 - ETA: 14s - loss: 0.0735 - acc: 0.51 - ETA: 14s - loss: 0.0735 - acc: 0.51 - ETA: 14s - loss: 0.0735 - acc: 0.51 - ETA: 14s - loss: 0.0736 - acc: 0.51 - ETA: 14s - loss: 0.0735 - acc: 0.51 - ETA: 14s - loss: 0.0735 - acc: 0.51 - ETA: 14s - loss: 0.0735 - acc: 0.51 - ETA: 14s - loss: 0.0735 - acc: 0.51 - ETA: 14s - loss: 0.0735 - acc: 0.51 - ETA: 14s - loss: 0.0734 - acc: 0.51 - ETA: 14s - loss: 0.0734 - acc: 0.51 - ETA: 14s - loss: 0.0734 - acc: 0.51 - ETA: 14s - loss: 0.0734 - acc: 0.51 - ETA: 14s - loss: 0.0734 - acc: 0.51 - ETA: 14s - loss: 0.0734 - acc: 0.51 - ETA: 14s - loss: 0.0734 - acc: 0.51 - ETA: 13s - loss: 0.0734 - acc: 0.51 - ETA: 13s - loss: 0.0733 - acc: 0.51 - ETA: 13s - loss: 0.0733 - acc: 0.51 - ETA: 13s - loss: 0.0733 - acc: 0.51 - ETA: 13s - loss: 0.0733 - acc: 0.51 - ETA: 13s - loss: 0.0733 - acc: 0.51 - ETA: 13s - loss: 0.0733 - acc: 0.51 - ETA: 13s - loss: 0.0733 - acc: 0.51 - ETA: 13s - loss: 0.0734 - acc: 0.51 - ETA: 13s - loss: 0.0734 - acc: 0.51 - ETA: 13s - loss: 0.0734 - acc: 0.51 - ETA: 13s - loss: 0.0734 - acc: 0.51 - ETA: 13s - loss: 0.0733 - acc: 0.51 - ETA: 13s - loss: 0.0733 - acc: 0.51 - ETA: 13s - loss: 0.0733 - acc: 0.51 - ETA: 13s - loss: 0.0734 - acc: 0.51 - ETA: 12s - loss: 0.0733 - acc: 0.51 - ETA: 12s - loss: 0.0733 - acc: 0.51 - ETA: 12s - loss: 0.0733 - acc: 0.5136"
     ]
    },
    {
     "name": "stdout",
     "output_type": "stream",
     "text": [
      "20314/20314 [==============================] - ETA: 12s - loss: 0.0733 - acc: 0.51 - ETA: 12s - loss: 0.0733 - acc: 0.51 - ETA: 12s - loss: 0.0733 - acc: 0.51 - ETA: 12s - loss: 0.0733 - acc: 0.51 - ETA: 12s - loss: 0.0733 - acc: 0.51 - ETA: 12s - loss: 0.0734 - acc: 0.51 - ETA: 12s - loss: 0.0734 - acc: 0.51 - ETA: 12s - loss: 0.0734 - acc: 0.51 - ETA: 12s - loss: 0.0734 - acc: 0.51 - ETA: 12s - loss: 0.0734 - acc: 0.51 - ETA: 12s - loss: 0.0734 - acc: 0.51 - ETA: 12s - loss: 0.0735 - acc: 0.51 - ETA: 12s - loss: 0.0734 - acc: 0.51 - ETA: 11s - loss: 0.0735 - acc: 0.51 - ETA: 11s - loss: 0.0734 - acc: 0.51 - ETA: 11s - loss: 0.0734 - acc: 0.51 - ETA: 11s - loss: 0.0734 - acc: 0.51 - ETA: 11s - loss: 0.0734 - acc: 0.51 - ETA: 11s - loss: 0.0734 - acc: 0.51 - ETA: 11s - loss: 0.0734 - acc: 0.51 - ETA: 11s - loss: 0.0734 - acc: 0.51 - ETA: 11s - loss: 0.0734 - acc: 0.51 - ETA: 11s - loss: 0.0734 - acc: 0.51 - ETA: 11s - loss: 0.0734 - acc: 0.51 - ETA: 11s - loss: 0.0734 - acc: 0.51 - ETA: 11s - loss: 0.0734 - acc: 0.51 - ETA: 11s - loss: 0.0734 - acc: 0.51 - ETA: 11s - loss: 0.0734 - acc: 0.51 - ETA: 10s - loss: 0.0735 - acc: 0.51 - ETA: 10s - loss: 0.0735 - acc: 0.51 - ETA: 10s - loss: 0.0735 - acc: 0.51 - ETA: 10s - loss: 0.0735 - acc: 0.51 - ETA: 10s - loss: 0.0735 - acc: 0.51 - ETA: 10s - loss: 0.0735 - acc: 0.51 - ETA: 10s - loss: 0.0735 - acc: 0.51 - ETA: 10s - loss: 0.0735 - acc: 0.51 - ETA: 10s - loss: 0.0735 - acc: 0.51 - ETA: 10s - loss: 0.0735 - acc: 0.51 - ETA: 10s - loss: 0.0735 - acc: 0.51 - ETA: 10s - loss: 0.0735 - acc: 0.51 - ETA: 10s - loss: 0.0735 - acc: 0.51 - ETA: 10s - loss: 0.0735 - acc: 0.51 - ETA: 10s - loss: 0.0734 - acc: 0.51 - ETA: 10s - loss: 0.0735 - acc: 0.51 - ETA: 9s - loss: 0.0735 - acc: 0.5119 - ETA: 9s - loss: 0.0735 - acc: 0.511 - ETA: 9s - loss: 0.0734 - acc: 0.512 - ETA: 9s - loss: 0.0734 - acc: 0.512 - ETA: 9s - loss: 0.0734 - acc: 0.512 - ETA: 9s - loss: 0.0734 - acc: 0.512 - ETA: 9s - loss: 0.0734 - acc: 0.512 - ETA: 9s - loss: 0.0733 - acc: 0.512 - ETA: 9s - loss: 0.0734 - acc: 0.512 - ETA: 9s - loss: 0.0734 - acc: 0.512 - ETA: 9s - loss: 0.0734 - acc: 0.512 - ETA: 9s - loss: 0.0733 - acc: 0.512 - ETA: 9s - loss: 0.0733 - acc: 0.512 - ETA: 9s - loss: 0.0733 - acc: 0.513 - ETA: 9s - loss: 0.0733 - acc: 0.513 - ETA: 8s - loss: 0.0733 - acc: 0.513 - ETA: 8s - loss: 0.0733 - acc: 0.513 - ETA: 8s - loss: 0.0733 - acc: 0.513 - ETA: 8s - loss: 0.0733 - acc: 0.513 - ETA: 8s - loss: 0.0732 - acc: 0.513 - ETA: 8s - loss: 0.0733 - acc: 0.513 - ETA: 8s - loss: 0.0733 - acc: 0.513 - ETA: 8s - loss: 0.0733 - acc: 0.513 - ETA: 8s - loss: 0.0732 - acc: 0.513 - ETA: 8s - loss: 0.0732 - acc: 0.513 - ETA: 8s - loss: 0.0732 - acc: 0.513 - ETA: 8s - loss: 0.0732 - acc: 0.513 - ETA: 8s - loss: 0.0733 - acc: 0.513 - ETA: 8s - loss: 0.0732 - acc: 0.513 - ETA: 8s - loss: 0.0732 - acc: 0.513 - ETA: 8s - loss: 0.0732 - acc: 0.512 - ETA: 7s - loss: 0.0732 - acc: 0.512 - ETA: 7s - loss: 0.0732 - acc: 0.512 - ETA: 7s - loss: 0.0732 - acc: 0.512 - ETA: 7s - loss: 0.0732 - acc: 0.512 - ETA: 7s - loss: 0.0732 - acc: 0.513 - ETA: 7s - loss: 0.0732 - acc: 0.513 - ETA: 7s - loss: 0.0732 - acc: 0.513 - ETA: 7s - loss: 0.0732 - acc: 0.513 - ETA: 7s - loss: 0.0732 - acc: 0.513 - ETA: 7s - loss: 0.0732 - acc: 0.513 - ETA: 7s - loss: 0.0732 - acc: 0.513 - ETA: 7s - loss: 0.0732 - acc: 0.513 - ETA: 7s - loss: 0.0732 - acc: 0.513 - ETA: 7s - loss: 0.0732 - acc: 0.513 - ETA: 7s - loss: 0.0732 - acc: 0.513 - ETA: 7s - loss: 0.0732 - acc: 0.513 - ETA: 6s - loss: 0.0732 - acc: 0.513 - ETA: 6s - loss: 0.0731 - acc: 0.513 - ETA: 6s - loss: 0.0731 - acc: 0.513 - ETA: 6s - loss: 0.0731 - acc: 0.513 - ETA: 6s - loss: 0.0731 - acc: 0.514 - ETA: 6s - loss: 0.0731 - acc: 0.514 - ETA: 6s - loss: 0.0730 - acc: 0.514 - ETA: 6s - loss: 0.0730 - acc: 0.514 - ETA: 6s - loss: 0.0730 - acc: 0.514 - ETA: 6s - loss: 0.0730 - acc: 0.514 - ETA: 6s - loss: 0.0730 - acc: 0.514 - ETA: 6s - loss: 0.0730 - acc: 0.514 - ETA: 6s - loss: 0.0731 - acc: 0.513 - ETA: 6s - loss: 0.0730 - acc: 0.514 - ETA: 6s - loss: 0.0730 - acc: 0.514 - ETA: 6s - loss: 0.0730 - acc: 0.514 - ETA: 5s - loss: 0.0730 - acc: 0.514 - ETA: 5s - loss: 0.0730 - acc: 0.514 - ETA: 5s - loss: 0.0730 - acc: 0.514 - ETA: 5s - loss: 0.0730 - acc: 0.514 - ETA: 5s - loss: 0.0730 - acc: 0.514 - ETA: 5s - loss: 0.0730 - acc: 0.514 - ETA: 5s - loss: 0.0730 - acc: 0.514 - ETA: 5s - loss: 0.0729 - acc: 0.514 - ETA: 5s - loss: 0.0729 - acc: 0.514 - ETA: 5s - loss: 0.0730 - acc: 0.514 - ETA: 5s - loss: 0.0730 - acc: 0.514 - ETA: 5s - loss: 0.0730 - acc: 0.514 - ETA: 5s - loss: 0.0730 - acc: 0.514 - ETA: 5s - loss: 0.0729 - acc: 0.514 - ETA: 5s - loss: 0.0729 - acc: 0.514 - ETA: 5s - loss: 0.0729 - acc: 0.514 - ETA: 4s - loss: 0.0729 - acc: 0.514 - ETA: 4s - loss: 0.0729 - acc: 0.514 - ETA: 4s - loss: 0.0729 - acc: 0.514 - ETA: 4s - loss: 0.0729 - acc: 0.515 - ETA: 4s - loss: 0.0728 - acc: 0.515 - ETA: 4s - loss: 0.0728 - acc: 0.515 - ETA: 4s - loss: 0.0728 - acc: 0.516 - ETA: 4s - loss: 0.0728 - acc: 0.516 - ETA: 4s - loss: 0.0728 - acc: 0.516 - ETA: 4s - loss: 0.0728 - acc: 0.516 - ETA: 4s - loss: 0.0728 - acc: 0.515 - ETA: 4s - loss: 0.0728 - acc: 0.516 - ETA: 4s - loss: 0.0728 - acc: 0.516 - ETA: 4s - loss: 0.0728 - acc: 0.516 - ETA: 4s - loss: 0.0728 - acc: 0.516 - ETA: 4s - loss: 0.0728 - acc: 0.516 - ETA: 3s - loss: 0.0728 - acc: 0.516 - ETA: 3s - loss: 0.0728 - acc: 0.515 - ETA: 3s - loss: 0.0728 - acc: 0.515 - ETA: 3s - loss: 0.0728 - acc: 0.515 - ETA: 3s - loss: 0.0728 - acc: 0.515 - ETA: 3s - loss: 0.0728 - acc: 0.515 - ETA: 3s - loss: 0.0728 - acc: 0.515 - ETA: 3s - loss: 0.0728 - acc: 0.515 - ETA: 3s - loss: 0.0728 - acc: 0.515 - ETA: 3s - loss: 0.0728 - acc: 0.515 - ETA: 3s - loss: 0.0728 - acc: 0.515 - ETA: 3s - loss: 0.0728 - acc: 0.516 - ETA: 3s - loss: 0.0728 - acc: 0.516 - ETA: 3s - loss: 0.0728 - acc: 0.516 - ETA: 3s - loss: 0.0728 - acc: 0.516 - ETA: 3s - loss: 0.0728 - acc: 0.516 - ETA: 3s - loss: 0.0728 - acc: 0.516 - ETA: 2s - loss: 0.0728 - acc: 0.516 - ETA: 2s - loss: 0.0728 - acc: 0.516 - ETA: 2s - loss: 0.0728 - acc: 0.516 - ETA: 2s - loss: 0.0728 - acc: 0.516 - ETA: 2s - loss: 0.0728 - acc: 0.516 - ETA: 2s - loss: 0.0728 - acc: 0.516 - ETA: 2s - loss: 0.0728 - acc: 0.516 - ETA: 2s - loss: 0.0728 - acc: 0.516 - ETA: 2s - loss: 0.0728 - acc: 0.516 - ETA: 2s - loss: 0.0728 - acc: 0.516 - ETA: 2s - loss: 0.0728 - acc: 0.516 - ETA: 2s - loss: 0.0728 - acc: 0.516 - ETA: 2s - loss: 0.0728 - acc: 0.516 - ETA: 2s - loss: 0.0728 - acc: 0.516 - ETA: 2s - loss: 0.0728 - acc: 0.517 - ETA: 2s - loss: 0.0728 - acc: 0.516 - ETA: 1s - loss: 0.0728 - acc: 0.517 - ETA: 1s - loss: 0.0727 - acc: 0.517 - ETA: 1s - loss: 0.0727 - acc: 0.517 - ETA: 1s - loss: 0.0727 - acc: 0.517 - ETA: 1s - loss: 0.0727 - acc: 0.517 - ETA: 1s - loss: 0.0727 - acc: 0.518 - ETA: 1s - loss: 0.0727 - acc: 0.517 - ETA: 1s - loss: 0.0727 - acc: 0.517 - ETA: 1s - loss: 0.0727 - acc: 0.517 - ETA: 1s - loss: 0.0727 - acc: 0.517 - ETA: 1s - loss: 0.0728 - acc: 0.517 - ETA: 1s - loss: 0.0728 - acc: 0.517 - ETA: 1s - loss: 0.0728 - acc: 0.517 - ETA: 1s - loss: 0.0728 - acc: 0.517 - ETA: 1s - loss: 0.0727 - acc: 0.517 - ETA: 1s - loss: 0.0727 - acc: 0.517 - ETA: 0s - loss: 0.0727 - acc: 0.517 - ETA: 0s - loss: 0.0727 - acc: 0.517 - ETA: 0s - loss: 0.0727 - acc: 0.517 - ETA: 0s - loss: 0.0727 - acc: 0.517 - ETA: 0s - loss: 0.0727 - acc: 0.517 - ETA: 0s - loss: 0.0727 - acc: 0.517 - ETA: 0s - loss: 0.0727 - acc: 0.518 - ETA: 0s - loss: 0.0727 - acc: 0.518 - ETA: 0s - loss: 0.0727 - acc: 0.518 - ETA: 0s - loss: 0.0727 - acc: 0.518 - ETA: 0s - loss: 0.0726 - acc: 0.518 - ETA: 0s - loss: 0.0726 - acc: 0.518 - ETA: 0s - loss: 0.0726 - acc: 0.518 - ETA: 0s - loss: 0.0726 - acc: 0.518 - ETA: 0s - loss: 0.0726 - acc: 0.518 - ETA: 0s - loss: 0.0726 - acc: 0.518 - 39s 2ms/step - loss: 0.0726 - acc: 0.5184\n",
      "Epoch 2/10\n"
     ]
    },
    {
     "name": "stdout",
     "output_type": "stream",
     "text": [
      " 6880/20314 [=========>....................] - ETA: 36s - loss: 0.0664 - acc: 0.53 - ETA: 36s - loss: 0.0736 - acc: 0.54 - ETA: 36s - loss: 0.0695 - acc: 0.55 - ETA: 36s - loss: 0.0692 - acc: 0.56 - ETA: 36s - loss: 0.0702 - acc: 0.55 - ETA: 36s - loss: 0.0697 - acc: 0.56 - ETA: 37s - loss: 0.0696 - acc: 0.55 - ETA: 37s - loss: 0.0692 - acc: 0.55 - ETA: 37s - loss: 0.0688 - acc: 0.55 - ETA: 37s - loss: 0.0681 - acc: 0.56 - ETA: 36s - loss: 0.0686 - acc: 0.56 - ETA: 36s - loss: 0.0683 - acc: 0.55 - ETA: 36s - loss: 0.0686 - acc: 0.54 - ETA: 36s - loss: 0.0677 - acc: 0.54 - ETA: 36s - loss: 0.0685 - acc: 0.54 - ETA: 36s - loss: 0.0681 - acc: 0.55 - ETA: 36s - loss: 0.0676 - acc: 0.55 - ETA: 36s - loss: 0.0678 - acc: 0.55 - ETA: 35s - loss: 0.0678 - acc: 0.54 - ETA: 35s - loss: 0.0676 - acc: 0.55 - ETA: 35s - loss: 0.0684 - acc: 0.54 - ETA: 35s - loss: 0.0695 - acc: 0.53 - ETA: 35s - loss: 0.0693 - acc: 0.53 - ETA: 35s - loss: 0.0697 - acc: 0.52 - ETA: 35s - loss: 0.0699 - acc: 0.53 - ETA: 35s - loss: 0.0701 - acc: 0.53 - ETA: 35s - loss: 0.0700 - acc: 0.53 - ETA: 35s - loss: 0.0704 - acc: 0.52 - ETA: 35s - loss: 0.0699 - acc: 0.53 - ETA: 35s - loss: 0.0696 - acc: 0.53 - ETA: 35s - loss: 0.0695 - acc: 0.53 - ETA: 35s - loss: 0.0692 - acc: 0.53 - ETA: 34s - loss: 0.0691 - acc: 0.53 - ETA: 34s - loss: 0.0692 - acc: 0.54 - ETA: 34s - loss: 0.0691 - acc: 0.54 - ETA: 34s - loss: 0.0692 - acc: 0.53 - ETA: 34s - loss: 0.0698 - acc: 0.53 - ETA: 34s - loss: 0.0700 - acc: 0.53 - ETA: 34s - loss: 0.0702 - acc: 0.53 - ETA: 34s - loss: 0.0703 - acc: 0.53 - ETA: 34s - loss: 0.0709 - acc: 0.52 - ETA: 34s - loss: 0.0706 - acc: 0.53 - ETA: 34s - loss: 0.0709 - acc: 0.52 - ETA: 34s - loss: 0.0712 - acc: 0.52 - ETA: 34s - loss: 0.0711 - acc: 0.52 - ETA: 34s - loss: 0.0706 - acc: 0.53 - ETA: 34s - loss: 0.0708 - acc: 0.52 - ETA: 34s - loss: 0.0712 - acc: 0.52 - ETA: 33s - loss: 0.0710 - acc: 0.52 - ETA: 33s - loss: 0.0706 - acc: 0.52 - ETA: 33s - loss: 0.0709 - acc: 0.52 - ETA: 33s - loss: 0.0707 - acc: 0.52 - ETA: 33s - loss: 0.0708 - acc: 0.52 - ETA: 33s - loss: 0.0711 - acc: 0.52 - ETA: 33s - loss: 0.0711 - acc: 0.52 - ETA: 33s - loss: 0.0713 - acc: 0.52 - ETA: 33s - loss: 0.0711 - acc: 0.52 - ETA: 33s - loss: 0.0709 - acc: 0.52 - ETA: 33s - loss: 0.0712 - acc: 0.52 - ETA: 33s - loss: 0.0712 - acc: 0.52 - ETA: 33s - loss: 0.0713 - acc: 0.52 - ETA: 33s - loss: 0.0713 - acc: 0.52 - ETA: 33s - loss: 0.0713 - acc: 0.52 - ETA: 33s - loss: 0.0712 - acc: 0.52 - ETA: 33s - loss: 0.0714 - acc: 0.52 - ETA: 32s - loss: 0.0715 - acc: 0.52 - ETA: 32s - loss: 0.0711 - acc: 0.52 - ETA: 32s - loss: 0.0711 - acc: 0.52 - ETA: 32s - loss: 0.0712 - acc: 0.52 - ETA: 32s - loss: 0.0716 - acc: 0.52 - ETA: 32s - loss: 0.0715 - acc: 0.52 - ETA: 32s - loss: 0.0718 - acc: 0.52 - ETA: 32s - loss: 0.0719 - acc: 0.52 - ETA: 32s - loss: 0.0721 - acc: 0.52 - ETA: 32s - loss: 0.0722 - acc: 0.52 - ETA: 32s - loss: 0.0720 - acc: 0.52 - ETA: 32s - loss: 0.0719 - acc: 0.52 - ETA: 32s - loss: 0.0717 - acc: 0.52 - ETA: 32s - loss: 0.0719 - acc: 0.52 - ETA: 32s - loss: 0.0718 - acc: 0.52 - ETA: 32s - loss: 0.0717 - acc: 0.52 - ETA: 32s - loss: 0.0716 - acc: 0.52 - ETA: 32s - loss: 0.0715 - acc: 0.52 - ETA: 31s - loss: 0.0714 - acc: 0.52 - ETA: 31s - loss: 0.0714 - acc: 0.52 - ETA: 31s - loss: 0.0714 - acc: 0.52 - ETA: 31s - loss: 0.0715 - acc: 0.52 - ETA: 31s - loss: 0.0714 - acc: 0.52 - ETA: 31s - loss: 0.0714 - acc: 0.52 - ETA: 31s - loss: 0.0713 - acc: 0.52 - ETA: 31s - loss: 0.0714 - acc: 0.52 - ETA: 31s - loss: 0.0713 - acc: 0.52 - ETA: 31s - loss: 0.0714 - acc: 0.52 - ETA: 31s - loss: 0.0714 - acc: 0.52 - ETA: 31s - loss: 0.0713 - acc: 0.52 - ETA: 31s - loss: 0.0712 - acc: 0.52 - ETA: 31s - loss: 0.0711 - acc: 0.52 - ETA: 31s - loss: 0.0710 - acc: 0.52 - ETA: 31s - loss: 0.0709 - acc: 0.53 - ETA: 31s - loss: 0.0709 - acc: 0.53 - ETA: 31s - loss: 0.0711 - acc: 0.52 - ETA: 30s - loss: 0.0710 - acc: 0.52 - ETA: 30s - loss: 0.0709 - acc: 0.52 - ETA: 30s - loss: 0.0709 - acc: 0.52 - ETA: 30s - loss: 0.0708 - acc: 0.53 - ETA: 30s - loss: 0.0708 - acc: 0.53 - ETA: 30s - loss: 0.0706 - acc: 0.53 - ETA: 30s - loss: 0.0708 - acc: 0.53 - ETA: 30s - loss: 0.0707 - acc: 0.53 - ETA: 30s - loss: 0.0706 - acc: 0.53 - ETA: 30s - loss: 0.0707 - acc: 0.53 - ETA: 30s - loss: 0.0706 - acc: 0.53 - ETA: 30s - loss: 0.0705 - acc: 0.53 - ETA: 30s - loss: 0.0704 - acc: 0.53 - ETA: 30s - loss: 0.0704 - acc: 0.53 - ETA: 30s - loss: 0.0704 - acc: 0.53 - ETA: 30s - loss: 0.0702 - acc: 0.53 - ETA: 30s - loss: 0.0703 - acc: 0.53 - ETA: 29s - loss: 0.0702 - acc: 0.53 - ETA: 29s - loss: 0.0701 - acc: 0.53 - ETA: 29s - loss: 0.0700 - acc: 0.53 - ETA: 29s - loss: 0.0700 - acc: 0.53 - ETA: 29s - loss: 0.0700 - acc: 0.53 - ETA: 29s - loss: 0.0701 - acc: 0.53 - ETA: 29s - loss: 0.0700 - acc: 0.53 - ETA: 29s - loss: 0.0701 - acc: 0.53 - ETA: 29s - loss: 0.0701 - acc: 0.53 - ETA: 29s - loss: 0.0701 - acc: 0.53 - ETA: 29s - loss: 0.0701 - acc: 0.53 - ETA: 29s - loss: 0.0702 - acc: 0.53 - ETA: 29s - loss: 0.0702 - acc: 0.53 - ETA: 29s - loss: 0.0701 - acc: 0.53 - ETA: 29s - loss: 0.0701 - acc: 0.53 - ETA: 29s - loss: 0.0701 - acc: 0.53 - ETA: 29s - loss: 0.0702 - acc: 0.53 - ETA: 29s - loss: 0.0702 - acc: 0.53 - ETA: 28s - loss: 0.0702 - acc: 0.53 - ETA: 28s - loss: 0.0702 - acc: 0.53 - ETA: 28s - loss: 0.0702 - acc: 0.53 - ETA: 28s - loss: 0.0703 - acc: 0.53 - ETA: 28s - loss: 0.0703 - acc: 0.53 - ETA: 28s - loss: 0.0703 - acc: 0.53 - ETA: 28s - loss: 0.0704 - acc: 0.53 - ETA: 28s - loss: 0.0704 - acc: 0.53 - ETA: 28s - loss: 0.0705 - acc: 0.53 - ETA: 28s - loss: 0.0705 - acc: 0.53 - ETA: 28s - loss: 0.0705 - acc: 0.53 - ETA: 28s - loss: 0.0704 - acc: 0.53 - ETA: 28s - loss: 0.0705 - acc: 0.53 - ETA: 28s - loss: 0.0704 - acc: 0.53 - ETA: 28s - loss: 0.0704 - acc: 0.53 - ETA: 28s - loss: 0.0704 - acc: 0.53 - ETA: 28s - loss: 0.0703 - acc: 0.53 - ETA: 28s - loss: 0.0703 - acc: 0.53 - ETA: 27s - loss: 0.0704 - acc: 0.53 - ETA: 27s - loss: 0.0704 - acc: 0.53 - ETA: 27s - loss: 0.0704 - acc: 0.53 - ETA: 27s - loss: 0.0704 - acc: 0.53 - ETA: 27s - loss: 0.0702 - acc: 0.53 - ETA: 27s - loss: 0.0702 - acc: 0.53 - ETA: 27s - loss: 0.0702 - acc: 0.53 - ETA: 27s - loss: 0.0702 - acc: 0.53 - ETA: 27s - loss: 0.0703 - acc: 0.53 - ETA: 27s - loss: 0.0703 - acc: 0.53 - ETA: 27s - loss: 0.0703 - acc: 0.53 - ETA: 27s - loss: 0.0703 - acc: 0.53 - ETA: 27s - loss: 0.0703 - acc: 0.53 - ETA: 27s - loss: 0.0703 - acc: 0.53 - ETA: 27s - loss: 0.0703 - acc: 0.53 - ETA: 27s - loss: 0.0703 - acc: 0.53 - ETA: 27s - loss: 0.0703 - acc: 0.53 - ETA: 27s - loss: 0.0702 - acc: 0.53 - ETA: 26s - loss: 0.0702 - acc: 0.53 - ETA: 26s - loss: 0.0701 - acc: 0.53 - ETA: 26s - loss: 0.0700 - acc: 0.54 - ETA: 26s - loss: 0.0701 - acc: 0.54 - ETA: 26s - loss: 0.0701 - acc: 0.54 - ETA: 26s - loss: 0.0701 - acc: 0.54 - ETA: 26s - loss: 0.0701 - acc: 0.54 - ETA: 26s - loss: 0.0701 - acc: 0.54 - ETA: 26s - loss: 0.0701 - acc: 0.54 - ETA: 26s - loss: 0.0700 - acc: 0.54 - ETA: 26s - loss: 0.0700 - acc: 0.54 - ETA: 26s - loss: 0.0699 - acc: 0.54 - ETA: 26s - loss: 0.0699 - acc: 0.54 - ETA: 26s - loss: 0.0699 - acc: 0.54 - ETA: 26s - loss: 0.0700 - acc: 0.54 - ETA: 26s - loss: 0.0700 - acc: 0.54 - ETA: 26s - loss: 0.0700 - acc: 0.54 - ETA: 25s - loss: 0.0701 - acc: 0.54 - ETA: 25s - loss: 0.0701 - acc: 0.54 - ETA: 25s - loss: 0.0701 - acc: 0.54 - ETA: 25s - loss: 0.0702 - acc: 0.54 - ETA: 25s - loss: 0.0701 - acc: 0.54 - ETA: 25s - loss: 0.0702 - acc: 0.54 - ETA: 25s - loss: 0.0701 - acc: 0.54 - ETA: 25s - loss: 0.0701 - acc: 0.54 - ETA: 25s - loss: 0.0700 - acc: 0.54 - ETA: 25s - loss: 0.0700 - acc: 0.54 - ETA: 25s - loss: 0.0701 - acc: 0.54 - ETA: 25s - loss: 0.0700 - acc: 0.54 - ETA: 25s - loss: 0.0700 - acc: 0.54 - ETA: 25s - loss: 0.0699 - acc: 0.54 - ETA: 25s - loss: 0.0700 - acc: 0.54 - ETA: 25s - loss: 0.0700 - acc: 0.54 - ETA: 25s - loss: 0.0700 - acc: 0.54 - ETA: 25s - loss: 0.0701 - acc: 0.54 - ETA: 24s - loss: 0.0700 - acc: 0.54 - ETA: 24s - loss: 0.0700 - acc: 0.54 - ETA: 24s - loss: 0.0700 - acc: 0.54 - ETA: 24s - loss: 0.0699 - acc: 0.54 - ETA: 24s - loss: 0.0699 - acc: 0.54 - ETA: 24s - loss: 0.0699 - acc: 0.54 - ETA: 24s - loss: 0.0698 - acc: 0.54 - ETA: 24s - loss: 0.0698 - acc: 0.5416"
     ]
    },
    {
     "name": "stdout",
     "output_type": "stream",
     "text": [
      "13760/20314 [===================>..........] - ETA: 24s - loss: 0.0699 - acc: 0.54 - ETA: 24s - loss: 0.0698 - acc: 0.54 - ETA: 24s - loss: 0.0698 - acc: 0.54 - ETA: 24s - loss: 0.0698 - acc: 0.54 - ETA: 24s - loss: 0.0700 - acc: 0.54 - ETA: 24s - loss: 0.0700 - acc: 0.54 - ETA: 24s - loss: 0.0700 - acc: 0.54 - ETA: 24s - loss: 0.0700 - acc: 0.54 - ETA: 24s - loss: 0.0701 - acc: 0.53 - ETA: 23s - loss: 0.0701 - acc: 0.53 - ETA: 23s - loss: 0.0701 - acc: 0.53 - ETA: 23s - loss: 0.0700 - acc: 0.53 - ETA: 23s - loss: 0.0700 - acc: 0.53 - ETA: 23s - loss: 0.0700 - acc: 0.54 - ETA: 23s - loss: 0.0700 - acc: 0.53 - ETA: 23s - loss: 0.0701 - acc: 0.53 - ETA: 23s - loss: 0.0701 - acc: 0.53 - ETA: 23s - loss: 0.0702 - acc: 0.53 - ETA: 23s - loss: 0.0702 - acc: 0.53 - ETA: 23s - loss: 0.0702 - acc: 0.53 - ETA: 23s - loss: 0.0702 - acc: 0.53 - ETA: 23s - loss: 0.0702 - acc: 0.53 - ETA: 23s - loss: 0.0702 - acc: 0.53 - ETA: 23s - loss: 0.0702 - acc: 0.53 - ETA: 23s - loss: 0.0702 - acc: 0.53 - ETA: 22s - loss: 0.0702 - acc: 0.53 - ETA: 22s - loss: 0.0702 - acc: 0.53 - ETA: 22s - loss: 0.0702 - acc: 0.53 - ETA: 22s - loss: 0.0703 - acc: 0.53 - ETA: 22s - loss: 0.0702 - acc: 0.53 - ETA: 22s - loss: 0.0702 - acc: 0.53 - ETA: 22s - loss: 0.0702 - acc: 0.53 - ETA: 22s - loss: 0.0703 - acc: 0.53 - ETA: 22s - loss: 0.0702 - acc: 0.53 - ETA: 22s - loss: 0.0703 - acc: 0.53 - ETA: 22s - loss: 0.0702 - acc: 0.53 - ETA: 22s - loss: 0.0703 - acc: 0.53 - ETA: 22s - loss: 0.0702 - acc: 0.53 - ETA: 22s - loss: 0.0702 - acc: 0.53 - ETA: 22s - loss: 0.0701 - acc: 0.53 - ETA: 22s - loss: 0.0701 - acc: 0.53 - ETA: 22s - loss: 0.0701 - acc: 0.53 - ETA: 22s - loss: 0.0701 - acc: 0.53 - ETA: 21s - loss: 0.0701 - acc: 0.53 - ETA: 21s - loss: 0.0701 - acc: 0.53 - ETA: 21s - loss: 0.0701 - acc: 0.53 - ETA: 21s - loss: 0.0701 - acc: 0.53 - ETA: 21s - loss: 0.0700 - acc: 0.53 - ETA: 21s - loss: 0.0701 - acc: 0.53 - ETA: 21s - loss: 0.0700 - acc: 0.53 - ETA: 21s - loss: 0.0700 - acc: 0.53 - ETA: 21s - loss: 0.0701 - acc: 0.53 - ETA: 21s - loss: 0.0701 - acc: 0.53 - ETA: 21s - loss: 0.0701 - acc: 0.53 - ETA: 21s - loss: 0.0700 - acc: 0.53 - ETA: 21s - loss: 0.0700 - acc: 0.53 - ETA: 21s - loss: 0.0700 - acc: 0.53 - ETA: 21s - loss: 0.0700 - acc: 0.53 - ETA: 21s - loss: 0.0700 - acc: 0.53 - ETA: 21s - loss: 0.0701 - acc: 0.53 - ETA: 20s - loss: 0.0700 - acc: 0.53 - ETA: 20s - loss: 0.0700 - acc: 0.53 - ETA: 20s - loss: 0.0700 - acc: 0.53 - ETA: 20s - loss: 0.0700 - acc: 0.53 - ETA: 20s - loss: 0.0701 - acc: 0.53 - ETA: 20s - loss: 0.0701 - acc: 0.53 - ETA: 20s - loss: 0.0701 - acc: 0.53 - ETA: 20s - loss: 0.0701 - acc: 0.53 - ETA: 20s - loss: 0.0701 - acc: 0.53 - ETA: 20s - loss: 0.0701 - acc: 0.53 - ETA: 20s - loss: 0.0701 - acc: 0.53 - ETA: 20s - loss: 0.0701 - acc: 0.53 - ETA: 20s - loss: 0.0702 - acc: 0.53 - ETA: 20s - loss: 0.0702 - acc: 0.53 - ETA: 20s - loss: 0.0702 - acc: 0.53 - ETA: 20s - loss: 0.0702 - acc: 0.53 - ETA: 20s - loss: 0.0701 - acc: 0.53 - ETA: 19s - loss: 0.0701 - acc: 0.53 - ETA: 19s - loss: 0.0701 - acc: 0.53 - ETA: 19s - loss: 0.0701 - acc: 0.53 - ETA: 19s - loss: 0.0700 - acc: 0.53 - ETA: 19s - loss: 0.0700 - acc: 0.53 - ETA: 19s - loss: 0.0700 - acc: 0.54 - ETA: 19s - loss: 0.0700 - acc: 0.53 - ETA: 19s - loss: 0.0700 - acc: 0.53 - ETA: 19s - loss: 0.0700 - acc: 0.53 - ETA: 19s - loss: 0.0699 - acc: 0.54 - ETA: 19s - loss: 0.0699 - acc: 0.54 - ETA: 19s - loss: 0.0699 - acc: 0.54 - ETA: 19s - loss: 0.0700 - acc: 0.54 - ETA: 19s - loss: 0.0699 - acc: 0.54 - ETA: 19s - loss: 0.0699 - acc: 0.54 - ETA: 19s - loss: 0.0699 - acc: 0.54 - ETA: 19s - loss: 0.0698 - acc: 0.54 - ETA: 18s - loss: 0.0698 - acc: 0.54 - ETA: 18s - loss: 0.0698 - acc: 0.54 - ETA: 18s - loss: 0.0698 - acc: 0.54 - ETA: 18s - loss: 0.0698 - acc: 0.54 - ETA: 18s - loss: 0.0698 - acc: 0.54 - ETA: 18s - loss: 0.0698 - acc: 0.54 - ETA: 18s - loss: 0.0698 - acc: 0.54 - ETA: 18s - loss: 0.0698 - acc: 0.54 - ETA: 18s - loss: 0.0698 - acc: 0.54 - ETA: 18s - loss: 0.0697 - acc: 0.54 - ETA: 18s - loss: 0.0698 - acc: 0.54 - ETA: 18s - loss: 0.0698 - acc: 0.54 - ETA: 18s - loss: 0.0698 - acc: 0.54 - ETA: 18s - loss: 0.0698 - acc: 0.54 - ETA: 18s - loss: 0.0698 - acc: 0.54 - ETA: 18s - loss: 0.0698 - acc: 0.54 - ETA: 18s - loss: 0.0698 - acc: 0.54 - ETA: 17s - loss: 0.0698 - acc: 0.54 - ETA: 17s - loss: 0.0698 - acc: 0.54 - ETA: 17s - loss: 0.0698 - acc: 0.54 - ETA: 17s - loss: 0.0698 - acc: 0.54 - ETA: 17s - loss: 0.0698 - acc: 0.54 - ETA: 17s - loss: 0.0698 - acc: 0.54 - ETA: 17s - loss: 0.0698 - acc: 0.54 - ETA: 17s - loss: 0.0698 - acc: 0.54 - ETA: 17s - loss: 0.0698 - acc: 0.54 - ETA: 17s - loss: 0.0698 - acc: 0.54 - ETA: 17s - loss: 0.0698 - acc: 0.54 - ETA: 17s - loss: 0.0698 - acc: 0.54 - ETA: 17s - loss: 0.0698 - acc: 0.54 - ETA: 17s - loss: 0.0698 - acc: 0.54 - ETA: 17s - loss: 0.0698 - acc: 0.54 - ETA: 17s - loss: 0.0698 - acc: 0.54 - ETA: 17s - loss: 0.0698 - acc: 0.54 - ETA: 16s - loss: 0.0698 - acc: 0.54 - ETA: 16s - loss: 0.0698 - acc: 0.54 - ETA: 16s - loss: 0.0698 - acc: 0.54 - ETA: 16s - loss: 0.0698 - acc: 0.54 - ETA: 16s - loss: 0.0698 - acc: 0.54 - ETA: 16s - loss: 0.0698 - acc: 0.54 - ETA: 16s - loss: 0.0697 - acc: 0.54 - ETA: 16s - loss: 0.0698 - acc: 0.54 - ETA: 16s - loss: 0.0697 - acc: 0.54 - ETA: 16s - loss: 0.0698 - acc: 0.54 - ETA: 16s - loss: 0.0698 - acc: 0.54 - ETA: 16s - loss: 0.0698 - acc: 0.54 - ETA: 16s - loss: 0.0698 - acc: 0.54 - ETA: 16s - loss: 0.0697 - acc: 0.54 - ETA: 16s - loss: 0.0698 - acc: 0.54 - ETA: 16s - loss: 0.0697 - acc: 0.54 - ETA: 16s - loss: 0.0697 - acc: 0.54 - ETA: 15s - loss: 0.0697 - acc: 0.54 - ETA: 15s - loss: 0.0697 - acc: 0.54 - ETA: 15s - loss: 0.0698 - acc: 0.54 - ETA: 15s - loss: 0.0697 - acc: 0.54 - ETA: 15s - loss: 0.0697 - acc: 0.54 - ETA: 15s - loss: 0.0697 - acc: 0.54 - ETA: 15s - loss: 0.0697 - acc: 0.54 - ETA: 15s - loss: 0.0697 - acc: 0.54 - ETA: 15s - loss: 0.0697 - acc: 0.54 - ETA: 15s - loss: 0.0697 - acc: 0.54 - ETA: 15s - loss: 0.0697 - acc: 0.54 - ETA: 15s - loss: 0.0697 - acc: 0.54 - ETA: 15s - loss: 0.0697 - acc: 0.54 - ETA: 15s - loss: 0.0697 - acc: 0.54 - ETA: 15s - loss: 0.0697 - acc: 0.54 - ETA: 15s - loss: 0.0697 - acc: 0.54 - ETA: 15s - loss: 0.0697 - acc: 0.54 - ETA: 15s - loss: 0.0697 - acc: 0.54 - ETA: 14s - loss: 0.0697 - acc: 0.54 - ETA: 14s - loss: 0.0697 - acc: 0.54 - ETA: 14s - loss: 0.0697 - acc: 0.54 - ETA: 14s - loss: 0.0696 - acc: 0.54 - ETA: 14s - loss: 0.0697 - acc: 0.54 - ETA: 14s - loss: 0.0696 - acc: 0.54 - ETA: 14s - loss: 0.0696 - acc: 0.54 - ETA: 14s - loss: 0.0696 - acc: 0.54 - ETA: 14s - loss: 0.0696 - acc: 0.54 - ETA: 14s - loss: 0.0696 - acc: 0.54 - ETA: 14s - loss: 0.0695 - acc: 0.54 - ETA: 14s - loss: 0.0696 - acc: 0.54 - ETA: 14s - loss: 0.0696 - acc: 0.54 - ETA: 14s - loss: 0.0696 - acc: 0.54 - ETA: 14s - loss: 0.0696 - acc: 0.54 - ETA: 14s - loss: 0.0696 - acc: 0.54 - ETA: 14s - loss: 0.0696 - acc: 0.54 - ETA: 13s - loss: 0.0696 - acc: 0.54 - ETA: 13s - loss: 0.0696 - acc: 0.54 - ETA: 13s - loss: 0.0696 - acc: 0.54 - ETA: 13s - loss: 0.0696 - acc: 0.54 - ETA: 13s - loss: 0.0696 - acc: 0.54 - ETA: 13s - loss: 0.0696 - acc: 0.54 - ETA: 13s - loss: 0.0696 - acc: 0.54 - ETA: 13s - loss: 0.0695 - acc: 0.54 - ETA: 13s - loss: 0.0695 - acc: 0.54 - ETA: 13s - loss: 0.0695 - acc: 0.54 - ETA: 13s - loss: 0.0696 - acc: 0.54 - ETA: 13s - loss: 0.0696 - acc: 0.54 - ETA: 13s - loss: 0.0696 - acc: 0.54 - ETA: 13s - loss: 0.0696 - acc: 0.54 - ETA: 13s - loss: 0.0695 - acc: 0.54 - ETA: 13s - loss: 0.0695 - acc: 0.54 - ETA: 13s - loss: 0.0695 - acc: 0.54 - ETA: 12s - loss: 0.0695 - acc: 0.54 - ETA: 12s - loss: 0.0695 - acc: 0.54 - ETA: 12s - loss: 0.0695 - acc: 0.54 - ETA: 12s - loss: 0.0695 - acc: 0.54 - ETA: 12s - loss: 0.0696 - acc: 0.54 - ETA: 12s - loss: 0.0696 - acc: 0.54 - ETA: 12s - loss: 0.0695 - acc: 0.54 - ETA: 12s - loss: 0.0695 - acc: 0.54 - ETA: 12s - loss: 0.0695 - acc: 0.54 - ETA: 12s - loss: 0.0695 - acc: 0.54 - ETA: 12s - loss: 0.0694 - acc: 0.54 - ETA: 12s - loss: 0.0694 - acc: 0.54 - ETA: 12s - loss: 0.0694 - acc: 0.54 - ETA: 12s - loss: 0.0694 - acc: 0.54 - ETA: 12s - loss: 0.0695 - acc: 0.54 - ETA: 12s - loss: 0.0695 - acc: 0.54 - ETA: 12s - loss: 0.0695 - acc: 0.54 - ETA: 11s - loss: 0.0694 - acc: 0.5425"
     ]
    },
    {
     "name": "stdout",
     "output_type": "stream",
     "text": [
      "14368/20314 [====================>.........] - ETA: 11s - loss: 0.0694 - acc: 0.54 - ETA: 11s - loss: 0.0694 - acc: 0.54 - ETA: 11s - loss: 0.0694 - acc: 0.54 - ETA: 11s - loss: 0.0694 - acc: 0.54 - ETA: 11s - loss: 0.0694 - acc: 0.54 - ETA: 11s - loss: 0.0694 - acc: 0.54 - ETA: 11s - loss: 0.0694 - acc: 0.54 - ETA: 11s - loss: 0.0694 - acc: 0.54 - ETA: 11s - loss: 0.0694 - acc: 0.54 - ETA: 11s - loss: 0.0694 - acc: 0.54 - ETA: 11s - loss: 0.0695 - acc: 0.54 - ETA: 11s - loss: 0.0695 - acc: 0.54 - ETA: 11s - loss: 0.0695 - acc: 0.54 - ETA: 11s - loss: 0.0695 - acc: 0.54 - ETA: 11s - loss: 0.0695 - acc: 0.54 - ETA: 11s - loss: 0.0695 - acc: 0.54 - ETA: 10s - loss: 0.0695 - acc: 0.54 - ETA: 10s - loss: 0.0695 - acc: 0.54 - ETA: 10s - loss: 0.0695 - acc: 0.5421"
     ]
    }
   ],
   "source": [
    "model.fit(X, y, epochs=10,  batch_size=32, shuffle=True, class_weight=class_weight)"
   ]
  },
  {
   "cell_type": "code",
   "execution_count": 70,
   "metadata": {},
   "outputs": [
    {
     "data": {
      "text/plain": [
       "array([0., 0., 0., 0., 0., 0., 0., 1.], dtype=float32)"
      ]
     },
     "execution_count": 70,
     "metadata": {},
     "output_type": "execute_result"
    }
   ],
   "source": [
    "y[0]"
   ]
  },
  {
   "cell_type": "code",
   "execution_count": 13,
   "metadata": {},
   "outputs": [
    {
     "data": {
      "text/plain": [
       "array([[0., 0., 0., ..., 1., 0., 0.],\n",
       "       [1., 0., 0., ..., 0., 0., 0.],\n",
       "       [0., 0., 0., ..., 0., 1., 0.],\n",
       "       ...,\n",
       "       [1., 0., 0., ..., 0., 0., 0.],\n",
       "       [0., 0., 0., ..., 0., 0., 1.],\n",
       "       [0., 0., 1., ..., 0., 0., 0.]], dtype=float32)"
      ]
     },
     "execution_count": 13,
     "metadata": {},
     "output_type": "execute_result"
    }
   ],
   "source": [
    "y"
   ]
  },
  {
   "cell_type": "code",
   "execution_count": null,
   "metadata": {},
   "outputs": [],
   "source": []
  }
 ],
 "metadata": {
  "kernelspec": {
   "display_name": "Python 3",
   "language": "python",
   "name": "python3"
  },
  "language_info": {
   "codemirror_mode": {
    "name": "ipython",
    "version": 3
   },
   "file_extension": ".py",
   "mimetype": "text/x-python",
   "name": "python",
   "nbconvert_exporter": "python",
   "pygments_lexer": "ipython3",
   "version": "3.6.8"
  }
 },
 "nbformat": 4,
 "nbformat_minor": 2
}
