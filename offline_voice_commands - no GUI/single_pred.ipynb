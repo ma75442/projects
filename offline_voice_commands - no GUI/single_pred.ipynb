{
 "cells": [
  {
   "cell_type": "code",
   "execution_count": 12,
   "metadata": {},
   "outputs": [],
   "source": [
    "import pickle\n",
    "import os\n",
    "import numpy as np\n",
    "from tqdm import tqdm\n",
    "from scipy.io import wavfile\n",
    "from python_speech_features import mfcc\n",
    "from keras.models import load_model\n",
    "import pandas as pd\n",
    "from sklearn.metrics import accuracy_score\n",
    "import librosa\n",
    "import matplotlib.pyplot as plt"
   ]
  },
  {
   "cell_type": "code",
   "execution_count": 13,
   "metadata": {},
   "outputs": [],
   "source": [
    "df = pd.read_csv('commands.csv')\n",
    "classes = list(np.unique(df.label))\n",
    "fn2class = dict(zip(df.fname, df.label))\n",
    "p_path = os.path.join('pickles', 'conv.p')\n",
    "\n",
    "with open(p_path, 'rb') as handle:\n",
    "\tconfig = pickle.load(handle)\n",
    "\n",
    "model = load_model(config.model_path)"
   ]
  },
  {
   "cell_type": "code",
   "execution_count": 14,
   "metadata": {},
   "outputs": [],
   "source": [
    "y_true = []\n",
    "y_pred = []"
   ]
  },
  {
   "cell_type": "code",
   "execution_count": 27,
   "metadata": {},
   "outputs": [
    {
     "name": "stdout",
     "output_type": "stream",
     "text": [
      "Extracting features from audio\n"
     ]
    }
   ],
   "source": [
    "print('Extracting features from audio')\n",
    "rate, wav = wavfile.read('cleanAudio/output.wav')\n",
    "label = 'abort'\n",
    "c = classes.index(label)\n",
    "y_prob = []"
   ]
  },
  {
   "cell_type": "code",
   "execution_count": 28,
   "metadata": {},
   "outputs": [],
   "source": [
    "for i in range(0, wav.shape[0]-config.step, config.step):\n",
    "\tsample = wav[i:i+config.step]\n",
    "\tx = mfcc(sample, rate, numcep=config.nfeat, nfilt=config.nfilt, nfft=config.nfft)\n",
    "\tx = (x - config.min) / (config.max - config.min)\n",
    "\n",
    "\tif config.mode == 'conv':\n",
    "\t\tx = x.reshape(1, x.shape[0], x.shape[1], 1)\n",
    "\telif config.mode == 'time':\n",
    "\t\tx = np.expand_dims(x, axis=0)\n",
    "\ty_hat = model.predict(x)\n",
    "\ty_prob.append(y_hat)\n",
    "\ty_pred.append(np.argmax(y_hat))\n",
    "\ty_true.append(c)"
   ]
  },
  {
   "cell_type": "code",
   "execution_count": 30,
   "metadata": {},
   "outputs": [
    {
     "name": "stdout",
     "output_type": "stream",
     "text": [
      "centroid\n"
     ]
    }
   ],
   "source": [
    "fn_prob = np.mean(y_prob, axis=0).flatten()\n",
    "print(classes[np.argmax(fn_prob)])"
   ]
  },
  {
   "cell_type": "code",
   "execution_count": 31,
   "metadata": {},
   "outputs": [
    {
     "data": {
      "text/plain": [
       "1.0"
      ]
     },
     "execution_count": 31,
     "metadata": {},
     "output_type": "execute_result"
    }
   ],
   "source": [
    "fn_prob.sum()"
   ]
  },
  {
   "cell_type": "code",
   "execution_count": 32,
   "metadata": {},
   "outputs": [
    {
     "data": {
      "text/plain": [
       "array([5.3506717e-03, 9.6144408e-02, 7.5989246e-01, 2.1176422e-05,\n",
       "       2.2329239e-04, 9.1612287e-04, 1.3736312e-01, 8.8729168e-05],\n",
       "      dtype=float32)"
      ]
     },
     "execution_count": 32,
     "metadata": {},
     "output_type": "execute_result"
    }
   ],
   "source": [
    "fn_prob"
   ]
  },
  {
   "cell_type": "code",
   "execution_count": null,
   "metadata": {},
   "outputs": [],
   "source": []
  }
 ],
 "metadata": {
  "kernelspec": {
   "display_name": "Python 3",
   "language": "python",
   "name": "python3"
  },
  "language_info": {
   "codemirror_mode": {
    "name": "ipython",
    "version": 3
   },
   "file_extension": ".py",
   "mimetype": "text/x-python",
   "name": "python",
   "nbconvert_exporter": "python",
   "pygments_lexer": "ipython3",
   "version": "3.6.5"
  }
 },
 "nbformat": 4,
 "nbformat_minor": 2
}
